{
 "cells": [
  {
   "cell_type": "markdown",
   "id": "409ae4a3",
   "metadata": {},
   "source": [
    "# DECISION TREE PREPRUNNING AND HYPERPARAMETER TUNING"
   ]
  },
  {
   "cell_type": "markdown",
   "id": "cd497938",
   "metadata": {},
   "source": []
  }
 ],
 "metadata": {
  "language_info": {
   "name": "python"
  }
 },
 "nbformat": 4,
 "nbformat_minor": 5
}
